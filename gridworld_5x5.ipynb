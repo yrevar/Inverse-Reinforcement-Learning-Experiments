{
 "cells": [
  {
   "cell_type": "code",
   "execution_count": null,
   "metadata": {},
   "outputs": [],
   "source": [
    "import sys\n",
    "import torchvision\n",
    "import numpy as np\n",
    "from envs.navigation.State import State\n",
    "from envs.navigation.DiscreteStateSpace import DiscreteStateSpace, XYClassDistribution\n",
    "from envs.navigation.Dynamics import XYDynamics\n",
    "from envs.navigation.StateFeature import FeatureStateIndicator, FeatureStateIndicatorOneHot, \\\n",
    "                                        FeatureClassIndicator, FeatureClassIndicatorOneHot, \\\n",
    "                                        FeatureClassImage, FeatureClassImageSampler\n",
    "from envs.navigation.StateReward import RewardStateScalar\n",
    "import rl.planning as Plan\n",
    "import rl.policy as Policy\n",
    "\n",
    "sys.path.append(\"./NavigationGridViews/\")\n",
    "from NavigationGridViews.navgridviews.Raster import Raster as NavGridView\n",
    "\n",
    "from matplotlib import cm as cm, pyplot as plt, colors as mplotcolors\n",
    "%load_ext autoreload\n",
    "%autoreload 2"
   ]
  },
  {
   "cell_type": "code",
   "execution_count": null,
   "metadata": {},
   "outputs": [],
   "source": [
    "cifar = torchvision.datasets.CIFAR100(root=\"./\", download=True)\n",
    "X, y = cifar.data, np.asarray(cifar.targets)\n",
    "classes = np.unique(y)\n",
    "n_classes = len(classes)\n",
    "\n",
    "print(X.shape, y.shape)\n",
    "\n",
    "def sample_image(X, y, y_q):\n",
    "    x_q = X[y == y_q]\n",
    "    return x_q[np.random.randint(0, len(x_q))]"
   ]
  },
  {
   "cell_type": "code",
   "execution_count": null,
   "metadata": {},
   "outputs": [],
   "source": [
    "cifar.classes.index(\"house\"), cifar.classes.index(\"skyscraper\"), cifar.classes.index(\"road\")"
   ]
  },
  {
   "cell_type": "markdown",
   "metadata": {},
   "source": [
    "## Gridworld 5x5"
   ]
  },
  {
   "cell_type": "markdown",
   "metadata": {},
   "source": [
    "**sanity check**"
   ]
  },
  {
   "cell_type": "code",
   "execution_count": null,
   "metadata": {},
   "outputs": [],
   "source": [
    "np.random.seed(5)\n",
    "# Specify state space\n",
    "S = DiscreteStateSpace(5,5)\n",
    "goal = (4,4)\n",
    "\n",
    "# Attach classes\n",
    "S.sample_and_attach_classes([37, 76, 68], [0.2, 0.3, 0.5])\n",
    "S.override_classes_by_loc([goal], [68])\n",
    "# Attach features\n",
    "S.attach_features(FeatureClassImageSampler(S, lambda x: sample_image(X, y, x)))\n",
    "PHI_gridded = S.features(gridded=True)\n",
    "PHI_gridded_vis = np.flip(PHI_gridded, 2)\n",
    "# Attach rewards\n",
    "S.attach_rewards(RewardStateScalar(S, loc_to_reward_dict={goal: 1}, class_id_to_reward_dict={\n",
    "    37: 0, 76: 0, 68: 0}, default=0))\n",
    "R = S.rewards()\n",
    "# Specify dynamics\n",
    "T = XYDynamics(S, slip_prob=0.)\n",
    "# Set goal\n",
    "S.set_terminal_status_by_loc([goal])\n",
    "# Value Iteration\n",
    "VI = Plan.ValueIteration(S, R, T, verbose=True)\n",
    "# VI.q_value_list(S[23], False)"
   ]
  },
  {
   "cell_type": "code",
   "execution_count": null,
   "metadata": {
    "scrolled": false
   },
   "outputs": [],
   "source": [
    "log_Pi, V, Q, iterno = VI.run(100, Policy.Greedy, verbose=True, debug=False, eps=1e-6)"
   ]
  },
  {
   "cell_type": "code",
   "execution_count": null,
   "metadata": {},
   "outputs": [],
   "source": [
    "fig = plt.figure(figsize=(14,14))\n",
    "state_ann_sz = 14\n",
    "state_ann_color = \"white\"\n",
    "plt.subplot(2,2,1)\n",
    "p = NavGridView(PHI_gridded_vis, ax=plt.gca()).render().ticks(minor=False).show_cell_text(\n",
    "    S.class_ids, fontsize=state_ann_sz, color_cb=lambda x: state_ann_color).title(\"Navigation World (class id)\")\n",
    "# plt.colorbar(p.im)\n",
    "p.ax.invert_yaxis()\n",
    "\n",
    "plt.subplot(2,2,2)\n",
    "p = NavGridView(R[..., np.newaxis, np.newaxis, np.newaxis], ax=plt.gca()).render().ticks(minor=False).show_cell_text(\n",
    "    R, fontsize=state_ann_sz, color_cb=lambda x: state_ann_color).title(\"Reward\")\n",
    "# plt.colorbar(p.im)\n",
    "p.ax.invert_yaxis()\n",
    "\n",
    "plt.subplot(2,2,3)\n",
    "p = NavGridView(PHI_gridded_vis, ax=plt.gca()).render().ticks(minor=False).show_cell_text(\n",
    "    V.numpy().round(2), fontsize=state_ann_sz, color_cb=lambda x: state_ann_color).title(\"Navigation World (values)\")\n",
    "p.ax.invert_yaxis()\n",
    "\n",
    "plt.subplot(2,2,4)\n",
    "p = NavGridView(S._organize_to_grid(V)[..., np.newaxis, np.newaxis, np.newaxis], \n",
    "                ax=plt.gca()).render().ticks(minor=False).show_cell_text(\n",
    "    V.numpy().round(2), fontsize=state_ann_sz, color_cb=lambda x: state_ann_color).title(\"Value\")\n",
    "p.ax.invert_yaxis()"
   ]
  },
  {
   "cell_type": "markdown",
   "metadata": {},
   "source": [
    "**Trying different reward function**"
   ]
  },
  {
   "cell_type": "code",
   "execution_count": null,
   "metadata": {},
   "outputs": [],
   "source": [
    "class_ids = XYClassDistribution({\"r\": 68, \"h\": 37, \"s\": 76}, \n",
    "                                    [\"rrrrr\",\n",
    "                                     \"rhhhr\",\n",
    "                                     \"rhhhr\",\n",
    "                                     \"rhhhr\",\n",
    "                                     \"rrrrr\"])().flatten()\n",
    "S.attach_classes(class_ids)\n",
    "S.override_classes_by_loc([goal], [68])\n",
    "S.attach_features(FeatureClassImageSampler(S, lambda x: sample_image(X, y, x)))\n",
    "PHI_gridded = S.features(gridded=True)\n",
    "PHI_gridded_vis = np.flip(PHI_gridded, 2)"
   ]
  },
  {
   "cell_type": "code",
   "execution_count": null,
   "metadata": {},
   "outputs": [],
   "source": [
    "S.attach_rewards(RewardStateScalar(S, loc_to_reward_dict={goal: 0}, \n",
    "                                   class_id_to_reward_dict={37: -1., 76: -1., 68: -0.1}, default=0))\n",
    "R = S.rewards()"
   ]
  },
  {
   "cell_type": "code",
   "execution_count": null,
   "metadata": {},
   "outputs": [],
   "source": [
    "VI = Plan.ValueIteration(S, R, T, verbose=True)\n",
    "log_Pi, V, Q, iterno = VI.run(100, Policy.Greedy, verbose=True, debug=False, eps=1e-6)"
   ]
  },
  {
   "cell_type": "code",
   "execution_count": null,
   "metadata": {
    "scrolled": false
   },
   "outputs": [],
   "source": [
    "fig = plt.figure(figsize=(14,14))\n",
    "state_ann_sz = 14\n",
    "state_ann_color = \"white\"\n",
    "plt.subplot(2,2,1)\n",
    "p = NavGridView(PHI_gridded_vis, ax=plt.gca()).render().ticks(minor=False).show_cell_text(\n",
    "    S.class_ids, fontsize=state_ann_sz, color_cb=lambda x: state_ann_color).title(\"Navigation World (class id)\")\n",
    "# plt.colorbar(p.im)\n",
    "p.ax.invert_yaxis()\n",
    "\n",
    "plt.subplot(2,2,2)\n",
    "p = NavGridView(R[..., np.newaxis, np.newaxis, np.newaxis], ax=plt.gca()).render().ticks(minor=False).show_cell_text(\n",
    "    R, fontsize=state_ann_sz, color_cb=lambda x: state_ann_color).title(\"Reward\")\n",
    "# plt.colorbar(p.im)\n",
    "p.ax.invert_yaxis()\n",
    "\n",
    "plt.subplot(2,2,3)\n",
    "p = NavGridView(PHI_gridded_vis, ax=plt.gca()).render().ticks(minor=False).show_cell_text(\n",
    "    V.numpy().round(2), fontsize=state_ann_sz, color_cb=lambda x: state_ann_color).title(\"Navigation World (values)\")\n",
    "p.ax.invert_yaxis()\n",
    "\n",
    "plt.subplot(2,2,4)\n",
    "p = NavGridView(S._organize_to_grid(V)[..., np.newaxis, np.newaxis, np.newaxis], \n",
    "                ax=plt.gca()).render().ticks(minor=False).show_cell_text(\n",
    "    V.numpy().round(2), fontsize=state_ann_sz, color_cb=lambda x: state_ann_color).title(\"Value\")\n",
    "p.ax.invert_yaxis()"
   ]
  },
  {
   "cell_type": "code",
   "execution_count": null,
   "metadata": {},
   "outputs": [],
   "source": []
  }
 ],
 "metadata": {
  "kernelspec": {
   "display_name": "Python [conda env:irl]",
   "language": "python",
   "name": "conda-env-irl-py"
  },
  "language_info": {
   "codemirror_mode": {
    "name": "ipython",
    "version": 3
   },
   "file_extension": ".py",
   "mimetype": "text/x-python",
   "name": "python",
   "nbconvert_exporter": "python",
   "pygments_lexer": "ipython3",
   "version": "3.7.4"
  }
 },
 "nbformat": 4,
 "nbformat_minor": 2
}
